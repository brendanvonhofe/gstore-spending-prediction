{
 "cells": [
  {
   "cell_type": "code",
   "execution_count": 1,
   "metadata": {},
   "outputs": [],
   "source": [
    "import numpy as np\n",
    "import pandas as pd\n",
    "import json\n",
    "\n",
    "pd.set_option('display.max_columns', 500)"
   ]
  },
  {
   "cell_type": "code",
   "execution_count": 9,
   "metadata": {},
   "outputs": [
    {
     "name": "stderr",
     "output_type": "stream",
     "text": [
      "/home/bread/anaconda3/envs/pytorch/lib/python3.6/site-packages/IPython/core/interactiveshell.py:2785: DtypeWarning: Columns (2) have mixed types. Specify dtype option on import or set low_memory=False.\n",
      "  interactivity=interactivity, compiler=compiler, result=result)\n"
     ]
    }
   ],
   "source": [
    "df = pd.read_csv('train_clean.csv')"
   ]
  },
  {
   "cell_type": "code",
   "execution_count": 3,
   "metadata": {},
   "outputs": [],
   "source": [
    "cont = ['visitNumber', 'visitStartTime', 'hits', 'pageviews', 'transactionRevenue']\n",
    "cat = ['newVisits', 'bounces', 'channelGrouping', 'browser', 'operatingSystem', 'isMobile', \n",
    "       'deviceCategory', 'continent', 'subContinent', 'country', 'region', 'city', 'networkDomain']"
   ]
  },
  {
   "cell_type": "code",
   "execution_count": 4,
   "metadata": {},
   "outputs": [],
   "source": [
    "train_df = pd.DataFrame(np.zeros((len(df), len(cont)+len(cat)+1)), columns=(cont+cat+['fullVisitorId']))"
   ]
  },
  {
   "cell_type": "code",
   "execution_count": 5,
   "metadata": {},
   "outputs": [
    {
     "name": "stderr",
     "output_type": "stream",
     "text": [
      "/home/bread/anaconda3/envs/pytorch/lib/python3.6/site-packages/ipykernel_launcher.py:1: RuntimeWarning: divide by zero encountered in log\n",
      "  \"\"\"Entry point for launching an IPython kernel.\n",
      "/home/bread/anaconda3/envs/pytorch/lib/python3.6/site-packages/ipykernel_launcher.py:2: RuntimeWarning: divide by zero encountered in log\n",
      "  \n"
     ]
    },
    {
     "name": "stdout",
     "output_type": "stream",
     "text": [
      "visitNumber\n",
      "visitStartTime\n",
      "hits\n",
      "pageviews\n",
      "transactionRevenue\n"
     ]
    }
   ],
   "source": [
    "df['transactionRevenue'] = np.log(df['transactionRevenue'].values)\n",
    "df = df.replace(np.log(0), 0)\n",
    "tr = {'mean': 0, 'std': 0}\n",
    "for col in cont:\n",
    "    print(col)\n",
    "    m = df[col].values.mean()\n",
    "    sd = df[col].values.std()\n",
    "    if(col == 'transactionRevenue'):\n",
    "        tr['mean'] = m\n",
    "        tr['std'] = sd\n",
    "    train_df[col] = (df[col].values-m) / sd\n",
    "for col in cat:\n",
    "    train_df[col] = df[col].values\n",
    "train_df['fullVisitorId'] = df['fullVisitorId'].values"
   ]
  },
  {
   "cell_type": "code",
   "execution_count": 6,
   "metadata": {},
   "outputs": [
    {
     "data": {
      "text/html": [
       "<div>\n",
       "<style scoped>\n",
       "    .dataframe tbody tr th:only-of-type {\n",
       "        vertical-align: middle;\n",
       "    }\n",
       "\n",
       "    .dataframe tbody tr th {\n",
       "        vertical-align: top;\n",
       "    }\n",
       "\n",
       "    .dataframe thead th {\n",
       "        text-align: right;\n",
       "    }\n",
       "</style>\n",
       "<table border=\"1\" class=\"dataframe\">\n",
       "  <thead>\n",
       "    <tr style=\"text-align: right;\">\n",
       "      <th></th>\n",
       "      <th>visitNumber</th>\n",
       "      <th>visitStartTime</th>\n",
       "      <th>hits</th>\n",
       "      <th>pageviews</th>\n",
       "      <th>transactionRevenue</th>\n",
       "      <th>newVisits</th>\n",
       "      <th>bounces</th>\n",
       "      <th>channelGrouping</th>\n",
       "      <th>browser</th>\n",
       "      <th>operatingSystem</th>\n",
       "      <th>isMobile</th>\n",
       "      <th>deviceCategory</th>\n",
       "      <th>continent</th>\n",
       "      <th>subContinent</th>\n",
       "      <th>country</th>\n",
       "      <th>region</th>\n",
       "      <th>city</th>\n",
       "      <th>networkDomain</th>\n",
       "      <th>fullVisitorId</th>\n",
       "    </tr>\n",
       "  </thead>\n",
       "  <tbody>\n",
       "    <tr>\n",
       "      <th>0</th>\n",
       "      <td>-0.136249</td>\n",
       "      <td>-1.349672</td>\n",
       "      <td>-0.373029</td>\n",
       "      <td>-0.4056</td>\n",
       "      <td>-0.113349</td>\n",
       "      <td>1</td>\n",
       "      <td>1</td>\n",
       "      <td>Organic Search</td>\n",
       "      <td>Chrome</td>\n",
       "      <td>Windows</td>\n",
       "      <td>False</td>\n",
       "      <td>desktop</td>\n",
       "      <td>Asia</td>\n",
       "      <td>Western Asia</td>\n",
       "      <td>Turkey</td>\n",
       "      <td>Izmir</td>\n",
       "      <td>Izmir</td>\n",
       "      <td>ttnet.com.tr</td>\n",
       "      <td>1131660440785968503</td>\n",
       "    </tr>\n",
       "    <tr>\n",
       "      <th>1</th>\n",
       "      <td>-0.136249</td>\n",
       "      <td>-1.344157</td>\n",
       "      <td>-0.373029</td>\n",
       "      <td>-0.4056</td>\n",
       "      <td>-0.113349</td>\n",
       "      <td>1</td>\n",
       "      <td>1</td>\n",
       "      <td>Organic Search</td>\n",
       "      <td>Firefox</td>\n",
       "      <td>Macintosh</td>\n",
       "      <td>False</td>\n",
       "      <td>desktop</td>\n",
       "      <td>Oceania</td>\n",
       "      <td>Australasia</td>\n",
       "      <td>Australia</td>\n",
       "      <td>not available in demo dataset</td>\n",
       "      <td>not available in demo dataset</td>\n",
       "      <td>dodo.net.au</td>\n",
       "      <td>377306020877927890</td>\n",
       "    </tr>\n",
       "    <tr>\n",
       "      <th>2</th>\n",
       "      <td>-0.136249</td>\n",
       "      <td>-1.345793</td>\n",
       "      <td>-0.373029</td>\n",
       "      <td>-0.4056</td>\n",
       "      <td>-0.113349</td>\n",
       "      <td>1</td>\n",
       "      <td>1</td>\n",
       "      <td>Organic Search</td>\n",
       "      <td>Chrome</td>\n",
       "      <td>Windows</td>\n",
       "      <td>False</td>\n",
       "      <td>desktop</td>\n",
       "      <td>Europe</td>\n",
       "      <td>Southern Europe</td>\n",
       "      <td>Spain</td>\n",
       "      <td>Community of Madrid</td>\n",
       "      <td>Madrid</td>\n",
       "      <td>unknown.unknown</td>\n",
       "      <td>3895546263509774583</td>\n",
       "    </tr>\n",
       "    <tr>\n",
       "      <th>3</th>\n",
       "      <td>-0.136249</td>\n",
       "      <td>-1.344039</td>\n",
       "      <td>-0.373029</td>\n",
       "      <td>-0.4056</td>\n",
       "      <td>-0.113349</td>\n",
       "      <td>1</td>\n",
       "      <td>1</td>\n",
       "      <td>Organic Search</td>\n",
       "      <td>UC Browser</td>\n",
       "      <td>Linux</td>\n",
       "      <td>False</td>\n",
       "      <td>desktop</td>\n",
       "      <td>Asia</td>\n",
       "      <td>Southeast Asia</td>\n",
       "      <td>Indonesia</td>\n",
       "      <td>not available in demo dataset</td>\n",
       "      <td>not available in demo dataset</td>\n",
       "      <td>unknown.unknown</td>\n",
       "      <td>4763447161404445595</td>\n",
       "    </tr>\n",
       "    <tr>\n",
       "      <th>4</th>\n",
       "      <td>-0.028533</td>\n",
       "      <td>-1.350535</td>\n",
       "      <td>-0.373029</td>\n",
       "      <td>-0.4056</td>\n",
       "      <td>-0.113349</td>\n",
       "      <td>0</td>\n",
       "      <td>1</td>\n",
       "      <td>Organic Search</td>\n",
       "      <td>Chrome</td>\n",
       "      <td>Android</td>\n",
       "      <td>True</td>\n",
       "      <td>mobile</td>\n",
       "      <td>Europe</td>\n",
       "      <td>Northern Europe</td>\n",
       "      <td>United Kingdom</td>\n",
       "      <td>not available in demo dataset</td>\n",
       "      <td>not available in demo dataset</td>\n",
       "      <td>unknown.unknown</td>\n",
       "      <td>27294437909732085</td>\n",
       "    </tr>\n",
       "  </tbody>\n",
       "</table>\n",
       "</div>"
      ],
      "text/plain": [
       "   visitNumber  visitStartTime      hits  pageviews  transactionRevenue  \\\n",
       "0    -0.136249       -1.349672 -0.373029    -0.4056           -0.113349   \n",
       "1    -0.136249       -1.344157 -0.373029    -0.4056           -0.113349   \n",
       "2    -0.136249       -1.345793 -0.373029    -0.4056           -0.113349   \n",
       "3    -0.136249       -1.344039 -0.373029    -0.4056           -0.113349   \n",
       "4    -0.028533       -1.350535 -0.373029    -0.4056           -0.113349   \n",
       "\n",
       "   newVisits  bounces channelGrouping     browser operatingSystem  isMobile  \\\n",
       "0          1        1  Organic Search      Chrome         Windows     False   \n",
       "1          1        1  Organic Search     Firefox       Macintosh     False   \n",
       "2          1        1  Organic Search      Chrome         Windows     False   \n",
       "3          1        1  Organic Search  UC Browser           Linux     False   \n",
       "4          0        1  Organic Search      Chrome         Android      True   \n",
       "\n",
       "  deviceCategory continent     subContinent         country  \\\n",
       "0        desktop      Asia     Western Asia          Turkey   \n",
       "1        desktop   Oceania      Australasia       Australia   \n",
       "2        desktop    Europe  Southern Europe           Spain   \n",
       "3        desktop      Asia   Southeast Asia       Indonesia   \n",
       "4         mobile    Europe  Northern Europe  United Kingdom   \n",
       "\n",
       "                          region                           city  \\\n",
       "0                          Izmir                          Izmir   \n",
       "1  not available in demo dataset  not available in demo dataset   \n",
       "2            Community of Madrid                         Madrid   \n",
       "3  not available in demo dataset  not available in demo dataset   \n",
       "4  not available in demo dataset  not available in demo dataset   \n",
       "\n",
       "     networkDomain        fullVisitorId  \n",
       "0     ttnet.com.tr  1131660440785968503  \n",
       "1      dodo.net.au   377306020877927890  \n",
       "2  unknown.unknown  3895546263509774583  \n",
       "3  unknown.unknown  4763447161404445595  \n",
       "4  unknown.unknown    27294437909732085  "
      ]
     },
     "execution_count": 6,
     "metadata": {},
     "output_type": "execute_result"
    }
   ],
   "source": [
    "train_df.head()"
   ]
  },
  {
   "cell_type": "code",
   "execution_count": 7,
   "metadata": {},
   "outputs": [],
   "source": [
    "train_df.to_csv('train_df.csv', index=False)"
   ]
  },
  {
   "cell_type": "code",
   "execution_count": 15,
   "metadata": {},
   "outputs": [
    {
     "data": {
      "text/plain": [
       "903653"
      ]
     },
     "execution_count": 15,
     "metadata": {},
     "output_type": "execute_result"
    }
   ],
   "source": [
    "len(df[df['transactionRevenue']!=0])"
   ]
  },
  {
   "cell_type": "code",
   "execution_count": 18,
   "metadata": {},
   "outputs": [
    {
     "data": {
      "text/plain": [
       "-0.113349     892138\n",
       " 8.195309        256\n",
       " 8.250850        189\n",
       " 8.535480        187\n",
       " 8.679092        170\n",
       " 8.083870        135\n",
       " 8.790479        122\n",
       " 8.276462        116\n",
       " 8.165035         98\n",
       " 8.139419         93\n",
       " 8.256079         92\n",
       " 7.977893         84\n",
       " 8.824918         81\n",
       " 8.387877         77\n",
       " 8.968513         65\n",
       " 8.429986         64\n",
       " 8.429802         62\n",
       " 8.541241         54\n",
       " 8.622519         51\n",
       " 8.881412         46\n",
       " 7.125049         44\n",
       " 8.458349         40\n",
       " 8.324052         40\n",
       " 8.569784         39\n",
       " 8.485515         39\n",
       " 8.212630         38\n",
       " 8.061335         37\n",
       " 8.444280         37\n",
       " 8.485351         37\n",
       " 8.511123         37\n",
       "               ...  \n",
       " 10.073901         1\n",
       " 9.105999          1\n",
       " 10.002850         1\n",
       " 8.748082          1\n",
       " 9.216302          1\n",
       " 9.546612          1\n",
       " 9.011470          1\n",
       " 9.574815          1\n",
       " 9.095419          1\n",
       " 9.125052          1\n",
       " 10.095632         1\n",
       " 9.547513          1\n",
       " 8.803674          1\n",
       " 8.637275          1\n",
       " 8.942385          1\n",
       " 10.187575         1\n",
       " 9.768927          1\n",
       " 9.675706          1\n",
       " 9.015575          1\n",
       " 10.318737         1\n",
       " 8.556572          1\n",
       " 9.938168          1\n",
       " 8.908872          1\n",
       " 9.375393          1\n",
       " 9.794107          1\n",
       " 9.430765          1\n",
       " 9.059568          1\n",
       " 9.416223          1\n",
       " 9.334142          1\n",
       " 8.791548          1\n",
       "Name: transactionRevenue, Length: 5333, dtype: int64"
      ]
     },
     "execution_count": 18,
     "metadata": {},
     "output_type": "execute_result"
    }
   ],
   "source": [
    "train_df.transactionRevenue.value_counts()"
   ]
  },
  {
   "cell_type": "code",
   "execution_count": null,
   "metadata": {},
   "outputs": [],
   "source": []
  }
 ],
 "metadata": {
  "kernelspec": {
   "display_name": "Python 3",
   "language": "python",
   "name": "python3"
  },
  "language_info": {
   "codemirror_mode": {
    "name": "ipython",
    "version": 3
   },
   "file_extension": ".py",
   "mimetype": "text/x-python",
   "name": "python",
   "nbconvert_exporter": "python",
   "pygments_lexer": "ipython3",
   "version": "3.6.6"
  }
 },
 "nbformat": 4,
 "nbformat_minor": 2
}
